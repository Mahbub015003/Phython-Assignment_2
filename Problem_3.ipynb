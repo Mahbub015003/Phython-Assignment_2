{
 "cells": [
  {
   "cell_type": "raw",
   "metadata": {
    "collapsed": false
   },
   "source": [
    "Write a program that uses a dictionary that contains ten user names and passwords. The program should ask the user to enter their username and password. If the username is not in the dictionary, the program should indicate that the person is not a valid user of the system. If the username is in the dictionary, but the user does not enter the right password, the program should say that the password is invalid. If the password is correct, then the program should tell the user that they are now logged in to the system"
   ]
  },
  {
   "cell_type": "code",
   "execution_count": 0,
   "metadata": {
    "collapsed": false
   },
   "outputs": [
   ],
   "source": [
    "dict = {'Alo' : '2468', 'Adhar':'13579'}\n",
    "x = input(\"User Name: \")\n",
    "y = input(\"Password: \")\n",
    "for z in dict:\n",
    "    if dict.has_key(z):\n",
    "        if dict.get(z) == y:\n",
    "            print(\"Password is correct.User can log in to the system\")\n",
    "            y = -\"-1-1\"\n",
    "        else:\n",
    "            print(\"Password is invalid\")\n",
    "        break\n",
    "if y == \"-1-1\":\n",
    "    print(\"Username is not found\")\n"
   ]
  }
 ],
 "metadata": {
  "kernelspec": {
   "display_name": "SageMath (stable)",
   "language": "sagemath",
   "name": "sagemath"
  },
  "language_info": {
   "codemirror_mode": {
    "name": "ipython",
    "version": 2
   },
   "file_extension": ".py",
   "mimetype": "text/x-python",
   "name": "python",
   "nbconvert_exporter": "python",
   "pygments_lexer": "ipython2",
   "version": "2.7.15"
  }
 },
 "nbformat": 4,
 "nbformat_minor": 0
}
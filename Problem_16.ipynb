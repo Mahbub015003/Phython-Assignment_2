{
 "cells": [
  {
   "cell_type": "raw",
   "metadata": {
    "collapsed": false
   },
   "source": [
    " Randomly generate a 9 × 9 list where the entries are integers between 1 and 9 with no repeat entries in any row or in any column"
   ]
  },
  {
   "cell_type": "code",
   "execution_count": 0,
   "metadata": {
    "collapsed": false
   },
   "outputs": [
   ],
   "source": [
    "import random\n",
    "positions = []\n",
    "for x in range(9):\n",
    "for y in range(9):\n",
    " f = random.randrange(9)+1\n",
    "while positions.count(f)!=0:\n",
    " f = random.randrange(9)+1\n",
    "  positions.append(f)\n",
    "  print(f, end=\" \")\n",
    "  positions.clear()\n",
    "  print()\n"
   ]
  }
 ],
 "metadata": {
  "kernelspec": {
   "display_name": "SageMath (stable)",
   "language": "sagemath",
   "name": "sagemath"
  },
  "language_info": {
   "codemirror_mode": {
    "name": "ipython",
    "version": 2
   },
   "file_extension": ".py",
   "mimetype": "text/x-python",
   "name": "python",
   "nbconvert_exporter": "python",
   "pygments_lexer": "ipython2",
   "version": "2.7.15"
  }
 },
 "nbformat": 4,
 "nbformat_minor": 0
}
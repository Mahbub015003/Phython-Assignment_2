{
 "cells": [
  {
   "cell_type": "raw",
   "metadata": {
    "collapsed": false
   },
   "source": [
    "Dictionaries provide a convenient way to store structured data. Here is an example dictionary:d=[{ ' name ' : ' Todd ' , ' phone ' : ' 555-1414 ' , ' email ' : ' todd@mail.net ' }, { ' name ' : ' Helga ' , ' phone ' : ' 555-1618 ' , ' email ' : ' helga@mail.net ' }, { ' name ' : ' Princess ' , ' phone ' : ' 555-3141 ' , ' email ' : '' }, { ' name ' : ' LJ ' , ' phone ' : ' 555-2718 ' , ' email ' : ' lj@mail.net ' }]Write a program that reads through any dictionary like this and prints the following: (a) All the users whose phone number ends in an 8 (b) All the users that don’t have an email address listed \n"
   ]
  },
  {
   "cell_type": "code",
   "execution_count": 0,
   "metadata": {
    "collapsed": false
   },
   "outputs": [
   ],
   "source": [
    "d = [{'name' : 'Todd', 'phone' : '555-1414', 'email' : 'todd@gmail.com'},{'name' : 'Helga', 'phone' : '555-1618', 'email' : 'helga@gmail.com'},{'name' : 'Princess', 'phone' : '555-2716', 'email' : ' '}]\n",
    "\n",
    "for x in d:\n",
    "    for y in x:\n",
    "        str = x.get('phone')\n",
    "        if str[len(str)-1] == '8':\n",
    "            print(x.get('name'))\n",
    "            break\n",
    "for x in d:\n",
    "    for y in x:\n",
    "        str = x.get('email')\n",
    "        if str[len(str)-1] == ' ':\n",
    "            print(x.get('name'))\n",
    "            break\n"
   ]
  }
 ],
 "metadata": {
  "kernelspec": {
   "display_name": "SageMath (stable)",
   "language": "sagemath",
   "name": "sagemath"
  },
  "language_info": {
   "codemirror_mode": {
    "name": "ipython",
    "version": 2
   },
   "file_extension": ".py",
   "mimetype": "text/x-python",
   "name": "python",
   "nbconvert_exporter": "python",
   "pygments_lexer": "ipython2",
   "version": "2.7.15"
  }
 },
 "nbformat": 4,
 "nbformat_minor": 0
}
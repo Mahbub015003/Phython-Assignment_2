{
 "cells": [
  {
   "cell_type": "raw",
   "metadata": {
    "collapsed": false
   },
   "source": [
    "Write a program that starts with an 5 × 5 list of zeroes and randomly changes exactly ten of those zeroes to ones.\n"
   ]
  },
  {
   "cell_type": "code",
   "execution_count": 0,
   "metadata": {
    "collapsed": false
   },
   "outputs": [
   ],
   "source": [
    "import random\n",
    "myList = []\n",
    "randomPosition = []\n",
    "for i in range(25):\n",
    "    myList.append(0)\n",
    "for i in range(10):\n",
    "    x = random.randrange(1, 25)\n",
    "    while randomPosition.count(x) != 0:\n",
    "        x = random.randrange(1, 25)\n",
    "    randomPosition.append(x)\n",
    "    myList[x] = 1\n",
    "k = 0\n",
    "for i in range (5):\n",
    "    for j in range(5):\n",
    "        if i+j == randomPosition[k]:\n",
    "            print(myList[k], end=\" \")\n",
    "            k+=1\n",
    "            continue\n",
    "        print(myList[i+j], end=\" \")\n",
    "    print()\n"
   ]
  }
 ],
 "metadata": {
  "kernelspec": {
   "display_name": "SageMath (stable)",
   "language": "sagemath",
   "name": "sagemath"
  },
  "language_info": {
   "codemirror_mode": {
    "name": "ipython",
    "version": 2
   },
   "file_extension": ".py",
   "mimetype": "text/x-python",
   "name": "python",
   "nbconvert_exporter": "python",
   "pygments_lexer": "ipython2",
   "version": "2.7.15"
  }
 },
 "nbformat": 4,
 "nbformat_minor": 0
}
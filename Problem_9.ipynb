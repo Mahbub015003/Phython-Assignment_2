{
 "cells": [
  {
   "cell_type": "raw",
   "metadata": {
    "collapsed": false
   },
   "source": [
    "Recall that, given a string s , s.index( ' x ' ) returns the index of the first x in s and an error if there is no x. Write a program that asks the user for a string and a letter. Using a while loop, the program should print the index of the first occurrence of that letter and a message if the string does not contain the letter.(b) Write the above program using a for/break loop instead of a while loop.i = 0\n"
   ]
  },
  {
   "cell_type": "code",
   "execution_count": 0,
   "metadata": {
    "collapsed": false
   },
   "outputs": [
   ],
   "source": [
    "str = input(\"Enter a string : \")\n",
    "while i < len(str)-2:\n",
    "    if str[i] == str[len(str) - 1]:\n",
    "        print(i)\n",
    "        break\n",
    "    i+=1\n",
    "if i == len(str)-2:\n",
    "    print(\"No \\'{}\\' found on this string\". format(str[len(str) - 1]))\n",
    "\n"
   ]
  }
 ],
 "metadata": {
  "kernelspec": {
   "display_name": "SageMath (stable)",
   "language": "sagemath",
   "name": "sagemath"
  },
  "language_info": {
   "codemirror_mode": {
    "name": "ipython",
    "version": 2
   },
   "file_extension": ".py",
   "mimetype": "text/x-python",
   "name": "python",
   "nbconvert_exporter": "python",
   "pygments_lexer": "ipython2",
   "version": "2.7.15"
  }
 },
 "nbformat": 4,
 "nbformat_minor": 0
}
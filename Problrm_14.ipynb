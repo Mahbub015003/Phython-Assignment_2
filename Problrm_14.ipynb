{
 "cells": [
  {
   "cell_type": "raw",
   "metadata": {
    "collapsed": false
   },
   "source": [
    "Write a program to play the following simple game. The player starts with 100 𝑓𝑜𝑟𝑒𝑎𝑐ℎ𝑖𝑛𝑐𝑜𝑟𝑟𝑒𝑐𝑡𝑔𝑢𝑒𝑠𝑠. 𝑇ℎ𝑒𝑔𝑎𝑚𝑒𝑒𝑛𝑑𝑠𝑒𝑖𝑡ℎ𝑒𝑟𝑤ℎ𝑒𝑛𝑡ℎ𝑒𝑝𝑙𝑎𝑦𝑒𝑟𝑟𝑢𝑛𝑠𝑜𝑢𝑡𝑜𝑓𝑚𝑜𝑛𝑒𝑦𝑜𝑟𝑔𝑒𝑡𝑠𝑡𝑜 200"
   ]
  },
  {
   "cell_type": "code",
   "execution_count": 0,
   "metadata": {
    "collapsed": false
   },
   "outputs": [
   ],
   "source": [
    "while player > 0 and player < 200:\n",
    "    print(\"1. Head\\n2.Tail\")\n",
    "    x = int(input(\"Choose: \"))\n",
    "    if (random.randrange(10)+1)%2==0 and x == 2:\n",
    "        player+=9\n",
    "    else:\n",
    "        player-=10\n"
   ]
  }
 ],
 "metadata": {
  "kernelspec": {
   "display_name": "SageMath (stable)",
   "language": "sagemath",
   "name": "sagemath"
  },
  "language_info": {
   "codemirror_mode": {
    "name": "ipython",
    "version": 2
   },
   "file_extension": ".py",
   "mimetype": "text/x-python",
   "name": "python",
   "nbconvert_exporter": "python",
   "pygments_lexer": "ipython2",
   "version": "2.7.15"
  }
 },
 "nbformat": 4,
 "nbformat_minor": 0
}
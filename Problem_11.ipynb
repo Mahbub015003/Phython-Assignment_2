{
 "cells": [
  {
   "cell_type": "raw",
   "metadata": {
    "collapsed": false
   },
   "source": [
    "A 4000-year old method to compute the square root of 5 is as follows: Start with an initial guess, say 1. Then compute(1 + 5/1 )/2 = 3Next, take that 3 and replace the 1’s in the previous formula with 3’s . This gives(3 + 5/3 )/2 = 7/3 = 2.33Next replace the 3 in the previous formula with 7/3 . This gives(7/3 + 5/(7/3) )/2 = 47/22 = 2.24If you keep doing this process of computing the formula, getting a result, and plugging it back in, the values will eventually get closer and closer to 5 . This method works for numbers other than 5. Write a program that asks the user for a number and uses this method to estimate the square root of the number correct to within 10^( −10) . The estimate will be correct to within 10^( −10) when the absolute value of the difference between consecutive values is less than 10^(−10) "
   ]
  },
  {
   "cell_type": "code",
   "execution_count": 0,
   "metadata": {
    "collapsed": false
   },
   "outputs": [
   ],
   "source": [
    "num = int(input())\n",
    "i = 1\n",
    "while i >= 0:\n",
    "    x = i\n",
    "    i = (i + num/i)/2\n",
    "    if x == i:\n",
    "        break\n",
    "print(\"%.2f\"%i)\n"
   ]
  }
 ],
 "metadata": {
  "kernelspec": {
   "display_name": "SageMath (stable)",
   "language": "sagemath",
   "name": "sagemath"
  },
  "language_info": {
   "codemirror_mode": {
    "name": "ipython",
    "version": 2
   },
   "file_extension": ".py",
   "mimetype": "text/x-python",
   "name": "python",
   "nbconvert_exporter": "python",
   "pygments_lexer": "ipython2",
   "version": "2.7.15"
  }
 },
 "nbformat": 4,
 "nbformat_minor": 0
}
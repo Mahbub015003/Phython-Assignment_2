{
 "cells": [
  {
   "cell_type": "raw",
   "metadata": {
    "collapsed": false
   },
   "source": [
    "Randomly generate a 6 × 6 list that has exactly 12 ones placed in random locations in the list. The rest of the entries should be zeroes"
   ]
  },
  {
   "cell_type": "code",
   "execution_count": 0,
   "metadata": {
    "collapsed": false
   },
   "outputs": [
   ],
   "source": [
    "import random\n",
    "positions = []\n",
    "for x in range(12):\n",
    "    randomNumber = random.randrange(36)\n",
    "    while positions.count(randomNumber) != 0:\n",
    "        randomNumber = random.randrange(36)\n",
    "    positions.append(randomNumber)\n",
    "    positions.sort()\n",
    "\n",
    "k = 0\n",
    "j = -1\n",
    "for x in range(6):\n",
    "    for y in range(5):\n",
    "        j+=1\n",
    "        if j == positions[k]:\n",
    "            print(\"1\", end=\" \")\n",
    "            k+=1\n",
    "            continue\n",
    "        print(\"0\", end=\" \")\n",
    "    print()\n"
   ]
  }
 ],
 "metadata": {
  "kernelspec": {
   "display_name": "SageMath (stable)",
   "language": "sagemath",
   "name": "sagemath"
  },
  "language_info": {
   "codemirror_mode": {
    "name": "ipython",
    "version": 2
   },
   "file_extension": ".py",
   "mimetype": "text/x-python",
   "name": "python",
   "nbconvert_exporter": "python",
   "pygments_lexer": "ipython2",
   "version": "2.7.15"
  }
 },
 "nbformat": 4,
 "nbformat_minor": 0
}
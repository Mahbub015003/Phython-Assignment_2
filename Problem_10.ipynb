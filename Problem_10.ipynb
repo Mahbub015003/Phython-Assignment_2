{
 "cells": [
  {
   "cell_type": "raw",
   "metadata": {
    "collapsed": false
   },
   "source": [
    "The GCD (greatest common divisor) of two numbers is the largest number that both are di- visible by. For instance, gcd (18, 42) is 6 because the largest number that both 18 and 42 are divisible by is 6. Write a program that asks the user for two numbers and computes their gcd. Shown below is a way to compute the GCD, called Euclid’s Algorithm. First compute the remainder of dividing the larger number by the smaller number Next, replace the larger number with the smaller number and the smaller number with the remainder.Repeat this process until the smaller number is 0. The GCD is the last value of the larger number.\n"
   ]
  },
  {
   "cell_type": "code",
   "execution_count": 0,
   "metadata": {
    "collapsed": false
   },
   "outputs": [
   ],
   "source": [
    "num1 =int(input())\n",
    "num2 =int(input())\n",
    "x = 1\n",
    "gcd = 0\n",
    "while x <= num1 and x <= num2:\n",
    "    if num1 % x == 0 and num2 % x == 0:\n",
    "        gcd = x\n",
    "    x+=1\n",
    "print(gcd)\n"
   ]
  }
 ],
 "metadata": {
  "kernelspec": {
   "display_name": "SageMath (stable)",
   "language": "sagemath",
   "name": "sagemath"
  },
  "language_info": {
   "codemirror_mode": {
    "name": "ipython",
    "version": 2
   },
   "file_extension": ".py",
   "mimetype": "text/x-python",
   "name": "python",
   "nbconvert_exporter": "python",
   "pygments_lexer": "ipython2",
   "version": "2.7.15"
  }
 },
 "nbformat": 4,
 "nbformat_minor": 0
}